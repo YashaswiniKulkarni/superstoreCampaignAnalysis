{
  "nbformat": 4,
  "nbformat_minor": 0,
  "metadata": {
    "colab": {
      "provenance": []
    },
    "kernelspec": {
      "name": "python3",
      "display_name": "Python 3"
    },
    "language_info": {
      "name": "python"
    }
  },
  "cells": [
    {
      "cell_type": "code",
      "execution_count": 3,
      "metadata": {
        "colab": {
          "base_uri": "https://localhost:8080/"
        },
        "id": "f2HyhBhnSYIA",
        "outputId": "b5405fce-d937-42de-92a5-118c220c9f51"
      },
      "outputs": [
        {
          "output_type": "stream",
          "name": "stdout",
          "text": [
            "Collecting pyspark\n",
            "  Downloading pyspark-3.5.1.tar.gz (317.0 MB)\n",
            "\u001b[2K     \u001b[90m━━━━━━━━━━━━━━━━━━━━━━━━━━━━━━━━━━━━━━━━\u001b[0m \u001b[32m317.0/317.0 MB\u001b[0m \u001b[31m1.6 MB/s\u001b[0m eta \u001b[36m0:00:00\u001b[0m\n",
            "\u001b[?25h  Preparing metadata (setup.py) ... \u001b[?25l\u001b[?25hdone\n",
            "Requirement already satisfied: py4j==0.10.9.7 in /usr/local/lib/python3.10/dist-packages (from pyspark) (0.10.9.7)\n",
            "Building wheels for collected packages: pyspark\n",
            "  Building wheel for pyspark (setup.py) ... \u001b[?25l\u001b[?25hdone\n",
            "  Created wheel for pyspark: filename=pyspark-3.5.1-py2.py3-none-any.whl size=317488491 sha256=0ef8c70605da9f28be61776c896b8e8293412a3bcff00966b75a645716ce96bd\n",
            "  Stored in directory: /root/.cache/pip/wheels/80/1d/60/2c256ed38dddce2fdd93be545214a63e02fbd8d74fb0b7f3a6\n",
            "Successfully built pyspark\n",
            "Installing collected packages: pyspark\n",
            "Successfully installed pyspark-3.5.1\n"
          ]
        }
      ],
      "source": [
        "!pip install pyspark"
      ]
    },
    {
      "cell_type": "code",
      "source": [
        "#Import statements\n",
        "from pyspark.sql import SparkSession,Row\n",
        "from pyspark.sql.functions import col, sum,when,exp\n",
        "from pyspark.sql import functions as F\n",
        "from pyspark.sql.window import Window\n",
        "from pyspark.ml import Pipeline\n",
        "from pyspark.ml.feature import StringIndexer, OneHotEncoder\n",
        "from pyspark.ml.feature import VectorAssembler\n",
        "from pyspark.ml.feature import StandardScaler\n",
        "from pyspark.ml.classification import LogisticRegression\n",
        "from pyspark.ml.evaluation import BinaryClassificationEvaluator\n",
        "from pyspark.mllib.evaluation import MulticlassMetrics\n",
        "from pyspark.ml.classification import GBTClassifier\n",
        "from pyspark.ml.tuning import CrossValidator, ParamGridBuilder\n",
        "from pyspark.sql.types import StructType, StructField, DoubleType, StringType\n",
        "from pyspark.ml.functions import vector_to_array\n",
        "import math\n",
        "import matplotlib.pyplot as plt\n",
        "import seaborn as sns\n",
        "import pandas as pd\n",
        "seed=99"
      ],
      "metadata": {
        "id": "3_XU9frbXxxz"
      },
      "execution_count": 4,
      "outputs": []
    },
    {
      "cell_type": "code",
      "source": [
        "#Create a Spark session\n",
        "spark = SparkSession.builder.appName(\"SuperstoreAnalysis\").getOrCreate()\n",
        "spark.conf.set(\"spark.sql.legacy.timeParserPolicy\", \"LEGACY\")#Set legacy date parser due to issues with date format in new version"
      ],
      "metadata": {
        "id": "gLSpZjlzX7Dk"
      },
      "execution_count": 5,
      "outputs": []
    },
    {
      "cell_type": "code",
      "source": [
        "#Read CSV data\n",
        "superstore_data_path = '/content/drive/My Drive/Colab Notebooks/BDA_Project/superstore_data.csv' #File path\n",
        "superstore_df = spark.read.csv(superstore_data_path, header=True, inferSchema=True)\n",
        "superstore_df.show()"
      ],
      "metadata": {
        "colab": {
          "base_uri": "https://localhost:8080/"
        },
        "id": "ppNB9bN9YAMr",
        "outputId": "7aacd309-b9c8-4ab7-8a14-ebefd893865d"
      },
      "execution_count": 7,
      "outputs": [
        {
          "output_type": "stream",
          "name": "stdout",
          "text": [
            "+-----+----------+----------+--------------+------+-------+--------+-----------+-------+--------+---------+---------------+---------------+----------------+------------+-----------------+---------------+-------------------+-----------------+-----------------+--------+--------+\n",
            "|   Id|Year_Birth| Education|Marital_Status|Income|Kidhome|Teenhome|Dt_Customer|Recency|MntWines|MntFruits|MntMeatProducts|MntFishProducts|MntSweetProducts|MntGoldProds|NumDealsPurchases|NumWebPurchases|NumCatalogPurchases|NumStorePurchases|NumWebVisitsMonth|Response|Complain|\n",
            "+-----+----------+----------+--------------+------+-------+--------+-----------+-------+--------+---------+---------------+---------------+----------------+------------+-----------------+---------------+-------------------+-----------------+-----------------+--------+--------+\n",
            "| 1826|      1970|Graduation|      Divorced| 84835|      0|       0|  6/16/2014|      0|     189|      104|            379|            111|             189|         218|                1|              4|                  4|                6|                1|       1|       0|\n",
            "|    1|      1961|Graduation|        Single| 57091|      0|       0|  6/15/2014|      0|     464|        5|             64|              7|               0|          37|                1|              7|                  3|                7|                5|       1|       0|\n",
            "|10476|      1958|Graduation|       Married| 67267|      0|       1|  5/13/2014|      0|     134|       11|             59|             15|               2|          30|                1|              3|                  2|                5|                2|       0|       0|\n",
            "| 1386|      1967|Graduation|      Together| 32474|      1|       1|  11/5/2014|      0|      10|        0|              1|              0|               0|           0|                1|              1|                  0|                2|                7|       0|       0|\n",
            "| 5371|      1989|Graduation|        Single| 21474|      1|       0|   8/4/2014|      0|       6|       16|             24|             11|               0|          34|                2|              3|                  1|                2|                7|       1|       0|\n",
            "| 7348|      1958|       PhD|        Single| 71691|      0|       0|  3/17/2014|      0|     336|      130|            411|            240|              32|          43|                1|              4|                  7|                5|                2|       1|       0|\n",
            "| 4073|      1954|  2n Cycle|       Married| 63564|      0|       0|  1/29/2014|      0|     769|       80|            252|             15|              34|          65|                1|             10|                 10|                7|                6|       1|       0|\n",
            "| 1991|      1967|Graduation|      Together| 44931|      0|       1|  1/18/2014|      0|      78|        0|             11|              0|               0|           7|                1|              2|                  1|                3|                5|       0|       0|\n",
            "| 4047|      1954|       PhD|       Married| 65324|      0|       1|  11/1/2014|      0|     384|        0|            102|             21|              32|           5|                3|              6|                  2|                9|                4|       0|       0|\n",
            "| 9477|      1954|       PhD|       Married| 65324|      0|       1|  11/1/2014|      0|     384|        0|            102|             21|              32|           5|                3|              6|                  2|                9|                4|       0|       0|\n",
            "| 2079|      1947|  2n Cycle|       Married| 81044|      0|       0| 12/27/2013|      0|     450|       26|            535|             73|              98|          26|                1|              5|                  6|               10|                1|       0|       0|\n",
            "| 5642|      1979|    Master|      Together| 62499|      1|       0|  9/12/2013|      0|     140|        4|             61|              0|              13|           4|                2|              3|                  1|                6|                4|       0|       0|\n",
            "|10530|      1959|       PhD|         Widow| 67786|      0|       0|  7/12/2013|      0|     431|       82|            441|             80|              20|         102|                1|              3|                  6|                6|                1|       1|       0|\n",
            "| 2964|      1981|Graduation|       Married| 26872|      0|       0| 10/16/2013|      0|       3|       10|              8|              3|              16|          32|                1|              1|                  1|                2|                6|       0|       0|\n",
            "|10311|      1969|Graduation|       Married|  4428|      0|       1|  5/10/2013|      0|      16|        4|             12|              2|               4|         321|                0|             25|                  0|                0|                1|       0|       0|\n",
            "|  837|      1977|Graduation|       Married| 54809|      1|       1|  11/9/2013|      0|      63|        6|             57|             13|              13|          22|                4|              2|                  1|                5|                4|       0|       0|\n",
            "|10521|      1977|Graduation|       Married| 54809|      1|       1|  11/9/2013|      0|      63|        6|             57|             13|              13|          22|                4|              2|                  1|                5|                4|       1|       0|\n",
            "|10175|      1958|       PhD|      Divorced| 32173|      0|       1|   1/8/2013|      0|      18|        0|              2|              0|               0|           2|                1|              1|                  0|                3|                4|       0|       0|\n",
            "| 1473|      1960|  2n Cycle|        Single| 47823|      0|       1|  7/23/2013|      0|      53|        1|              5|              2|               1|          10|                2|              2|                  0|                3|                8|       0|       0|\n",
            "| 2795|      1958|    Master|        Single| 30523|      2|       1|   1/7/2013|      0|       5|        0|              3|              0|               0|           5|                1|              1|                  0|                2|                7|       0|       0|\n",
            "+-----+----------+----------+--------------+------+-------+--------+-----------+-------+--------+---------+---------------+---------------+----------------+------------+-----------------+---------------+-------------------+-----------------+-----------------+--------+--------+\n",
            "only showing top 20 rows\n",
            "\n"
          ]
        }
      ]
    },
    {
      "cell_type": "markdown",
      "source": [
        "### Data Preprocessing"
      ],
      "metadata": {
        "id": "0S4i6U9xZMWt"
      }
    },
    {
      "cell_type": "code",
      "source": [
        "#Check the schema\n",
        "superstore_df.printSchema()"
      ],
      "metadata": {
        "colab": {
          "base_uri": "https://localhost:8080/"
        },
        "id": "xt00rtyMZGYZ",
        "outputId": "00917a7f-c255-46c0-e92d-00fee74fba19"
      },
      "execution_count": 8,
      "outputs": [
        {
          "output_type": "stream",
          "name": "stdout",
          "text": [
            "root\n",
            " |-- Id: integer (nullable = true)\n",
            " |-- Year_Birth: integer (nullable = true)\n",
            " |-- Education: string (nullable = true)\n",
            " |-- Marital_Status: string (nullable = true)\n",
            " |-- Income: integer (nullable = true)\n",
            " |-- Kidhome: integer (nullable = true)\n",
            " |-- Teenhome: integer (nullable = true)\n",
            " |-- Dt_Customer: string (nullable = true)\n",
            " |-- Recency: integer (nullable = true)\n",
            " |-- MntWines: integer (nullable = true)\n",
            " |-- MntFruits: integer (nullable = true)\n",
            " |-- MntMeatProducts: integer (nullable = true)\n",
            " |-- MntFishProducts: integer (nullable = true)\n",
            " |-- MntSweetProducts: integer (nullable = true)\n",
            " |-- MntGoldProds: integer (nullable = true)\n",
            " |-- NumDealsPurchases: integer (nullable = true)\n",
            " |-- NumWebPurchases: integer (nullable = true)\n",
            " |-- NumCatalogPurchases: integer (nullable = true)\n",
            " |-- NumStorePurchases: integer (nullable = true)\n",
            " |-- NumWebVisitsMonth: integer (nullable = true)\n",
            " |-- Response: integer (nullable = true)\n",
            " |-- Complain: integer (nullable = true)\n",
            "\n"
          ]
        }
      ]
    },
    {
      "cell_type": "code",
      "source": [
        "#Convert the two date fields to date format and check schema again\n",
        "superstore_df = superstore_df.withColumn('Year_Birth', F.to_date(superstore_df['Year_Birth']))\n",
        "superstore_df = superstore_df.withColumn('Dt_Customer', F.to_date(superstore_df['Dt_Customer'], 'MM/dd/yyyy'))\n",
        "superstore_df.printSchema()\n",
        "superstore_df.show()"
      ],
      "metadata": {
        "colab": {
          "base_uri": "https://localhost:8080/"
        },
        "id": "G35gzbiuZfIs",
        "outputId": "04d81634-8bdf-498f-a74a-e023466099af"
      },
      "execution_count": 9,
      "outputs": [
        {
          "output_type": "stream",
          "name": "stdout",
          "text": [
            "root\n",
            " |-- Id: integer (nullable = true)\n",
            " |-- Year_Birth: date (nullable = true)\n",
            " |-- Education: string (nullable = true)\n",
            " |-- Marital_Status: string (nullable = true)\n",
            " |-- Income: integer (nullable = true)\n",
            " |-- Kidhome: integer (nullable = true)\n",
            " |-- Teenhome: integer (nullable = true)\n",
            " |-- Dt_Customer: date (nullable = true)\n",
            " |-- Recency: integer (nullable = true)\n",
            " |-- MntWines: integer (nullable = true)\n",
            " |-- MntFruits: integer (nullable = true)\n",
            " |-- MntMeatProducts: integer (nullable = true)\n",
            " |-- MntFishProducts: integer (nullable = true)\n",
            " |-- MntSweetProducts: integer (nullable = true)\n",
            " |-- MntGoldProds: integer (nullable = true)\n",
            " |-- NumDealsPurchases: integer (nullable = true)\n",
            " |-- NumWebPurchases: integer (nullable = true)\n",
            " |-- NumCatalogPurchases: integer (nullable = true)\n",
            " |-- NumStorePurchases: integer (nullable = true)\n",
            " |-- NumWebVisitsMonth: integer (nullable = true)\n",
            " |-- Response: integer (nullable = true)\n",
            " |-- Complain: integer (nullable = true)\n",
            "\n",
            "+-----+----------+----------+--------------+------+-------+--------+-----------+-------+--------+---------+---------------+---------------+----------------+------------+-----------------+---------------+-------------------+-----------------+-----------------+--------+--------+\n",
            "|   Id|Year_Birth| Education|Marital_Status|Income|Kidhome|Teenhome|Dt_Customer|Recency|MntWines|MntFruits|MntMeatProducts|MntFishProducts|MntSweetProducts|MntGoldProds|NumDealsPurchases|NumWebPurchases|NumCatalogPurchases|NumStorePurchases|NumWebVisitsMonth|Response|Complain|\n",
            "+-----+----------+----------+--------------+------+-------+--------+-----------+-------+--------+---------+---------------+---------------+----------------+------------+-----------------+---------------+-------------------+-----------------+-----------------+--------+--------+\n",
            "| 1826|1970-01-01|Graduation|      Divorced| 84835|      0|       0| 2014-06-16|      0|     189|      104|            379|            111|             189|         218|                1|              4|                  4|                6|                1|       1|       0|\n",
            "|    1|1961-01-01|Graduation|        Single| 57091|      0|       0| 2014-06-15|      0|     464|        5|             64|              7|               0|          37|                1|              7|                  3|                7|                5|       1|       0|\n",
            "|10476|1958-01-01|Graduation|       Married| 67267|      0|       1| 2014-05-13|      0|     134|       11|             59|             15|               2|          30|                1|              3|                  2|                5|                2|       0|       0|\n",
            "| 1386|1967-01-01|Graduation|      Together| 32474|      1|       1| 2014-11-05|      0|      10|        0|              1|              0|               0|           0|                1|              1|                  0|                2|                7|       0|       0|\n",
            "| 5371|1989-01-01|Graduation|        Single| 21474|      1|       0| 2014-08-04|      0|       6|       16|             24|             11|               0|          34|                2|              3|                  1|                2|                7|       1|       0|\n",
            "| 7348|1958-01-01|       PhD|        Single| 71691|      0|       0| 2014-03-17|      0|     336|      130|            411|            240|              32|          43|                1|              4|                  7|                5|                2|       1|       0|\n",
            "| 4073|1954-01-01|  2n Cycle|       Married| 63564|      0|       0| 2014-01-29|      0|     769|       80|            252|             15|              34|          65|                1|             10|                 10|                7|                6|       1|       0|\n",
            "| 1991|1967-01-01|Graduation|      Together| 44931|      0|       1| 2014-01-18|      0|      78|        0|             11|              0|               0|           7|                1|              2|                  1|                3|                5|       0|       0|\n",
            "| 4047|1954-01-01|       PhD|       Married| 65324|      0|       1| 2014-11-01|      0|     384|        0|            102|             21|              32|           5|                3|              6|                  2|                9|                4|       0|       0|\n",
            "| 9477|1954-01-01|       PhD|       Married| 65324|      0|       1| 2014-11-01|      0|     384|        0|            102|             21|              32|           5|                3|              6|                  2|                9|                4|       0|       0|\n",
            "| 2079|1947-01-01|  2n Cycle|       Married| 81044|      0|       0| 2013-12-27|      0|     450|       26|            535|             73|              98|          26|                1|              5|                  6|               10|                1|       0|       0|\n",
            "| 5642|1979-01-01|    Master|      Together| 62499|      1|       0| 2013-09-12|      0|     140|        4|             61|              0|              13|           4|                2|              3|                  1|                6|                4|       0|       0|\n",
            "|10530|1959-01-01|       PhD|         Widow| 67786|      0|       0| 2013-07-12|      0|     431|       82|            441|             80|              20|         102|                1|              3|                  6|                6|                1|       1|       0|\n",
            "| 2964|1981-01-01|Graduation|       Married| 26872|      0|       0| 2013-10-16|      0|       3|       10|              8|              3|              16|          32|                1|              1|                  1|                2|                6|       0|       0|\n",
            "|10311|1969-01-01|Graduation|       Married|  4428|      0|       1| 2013-05-10|      0|      16|        4|             12|              2|               4|         321|                0|             25|                  0|                0|                1|       0|       0|\n",
            "|  837|1977-01-01|Graduation|       Married| 54809|      1|       1| 2013-11-09|      0|      63|        6|             57|             13|              13|          22|                4|              2|                  1|                5|                4|       0|       0|\n",
            "|10521|1977-01-01|Graduation|       Married| 54809|      1|       1| 2013-11-09|      0|      63|        6|             57|             13|              13|          22|                4|              2|                  1|                5|                4|       1|       0|\n",
            "|10175|1958-01-01|       PhD|      Divorced| 32173|      0|       1| 2013-01-08|      0|      18|        0|              2|              0|               0|           2|                1|              1|                  0|                3|                4|       0|       0|\n",
            "| 1473|1960-01-01|  2n Cycle|        Single| 47823|      0|       1| 2013-07-23|      0|      53|        1|              5|              2|               1|          10|                2|              2|                  0|                3|                8|       0|       0|\n",
            "| 2795|1958-01-01|    Master|        Single| 30523|      2|       1| 2013-01-07|      0|       5|        0|              3|              0|               0|           5|                1|              1|                  0|                2|                7|       0|       0|\n",
            "+-----+----------+----------+--------------+------+-------+--------+-----------+-------+--------+---------+---------------+---------------+----------------+------------+-----------------+---------------+-------------------+-----------------+-----------------+--------+--------+\n",
            "only showing top 20 rows\n",
            "\n"
          ]
        }
      ]
    },
    {
      "cell_type": "code",
      "source": [
        "#Checking for missing values\n",
        "\n",
        "# Count the number of null values in each column\n",
        "null_counts = superstore_df.select(\n",
        "    *[sum(col(c).isNull().cast(\"int\")).alias(c) for c in superstore_df.columns]\n",
        ")\n",
        "null_counts.show()"
      ],
      "metadata": {
        "colab": {
          "base_uri": "https://localhost:8080/"
        },
        "id": "vzZuOhMpbOOJ",
        "outputId": "2e5cd12c-135d-456a-fe62-c3a96820a5a6"
      },
      "execution_count": 10,
      "outputs": [
        {
          "output_type": "stream",
          "name": "stdout",
          "text": [
            "+---+----------+---------+--------------+------+-------+--------+-----------+-------+--------+---------+---------------+---------------+----------------+------------+-----------------+---------------+-------------------+-----------------+-----------------+--------+--------+\n",
            "| Id|Year_Birth|Education|Marital_Status|Income|Kidhome|Teenhome|Dt_Customer|Recency|MntWines|MntFruits|MntMeatProducts|MntFishProducts|MntSweetProducts|MntGoldProds|NumDealsPurchases|NumWebPurchases|NumCatalogPurchases|NumStorePurchases|NumWebVisitsMonth|Response|Complain|\n",
            "+---+----------+---------+--------------+------+-------+--------+-----------+-------+--------+---------+---------------+---------------+----------------+------------+-----------------+---------------+-------------------+-----------------+-----------------+--------+--------+\n",
            "|  0|         0|        0|             0|    24|      0|       0|          0|      0|       0|        0|              0|              0|               0|           0|                0|              0|                  0|                0|                0|       0|       0|\n",
            "+---+----------+---------+--------------+------+-------+--------+-----------+-------+--------+---------+---------------+---------------+----------------+------------+-----------------+---------------+-------------------+-----------------+-----------------+--------+--------+\n",
            "\n"
          ]
        }
      ]
    },
    {
      "cell_type": "markdown",
      "source": [
        "From the above output we can see that only income has 24 missing values. We can impute these missing values using median of income for their respective education level"
      ],
      "metadata": {
        "id": "-m2Z9Jqq6UjI"
      }
    },
    {
      "cell_type": "code",
      "source": [
        "#Fill missing income values based on median income for their respective education level\n",
        "\n",
        "#Compute the median income by education level\n",
        "education_window = Window().partitionBy('Education')\n",
        "superstore_df = superstore_df.withColumn('MedianIncome', F.expr('percentile_approx(Income, 0.5)').over(education_window))\n",
        "\n",
        "# Update missing income values\n",
        "superstore_df = superstore_df.withColumn('Income', F.when(superstore_df['Income'].isNull(), superstore_df['MedianIncome']).otherwise(superstore_df['Income']))\n",
        "\n",
        "# Drop the temporary column used for computation\n",
        "superstore_df = superstore_df.drop('MedianIncome')\n",
        "\n",
        "# Show the updated DataFrame\n",
        "superstore_df.show()"
      ],
      "metadata": {
        "colab": {
          "base_uri": "https://localhost:8080/"
        },
        "id": "7Z11EgPr6YHL",
        "outputId": "e2745ecf-55b9-4fde-d836-2d607b4ac950"
      },
      "execution_count": 11,
      "outputs": [
        {
          "output_type": "stream",
          "name": "stdout",
          "text": [
            "+-----+----------+---------+--------------+------+-------+--------+-----------+-------+--------+---------+---------------+---------------+----------------+------------+-----------------+---------------+-------------------+-----------------+-----------------+--------+--------+\n",
            "|   Id|Year_Birth|Education|Marital_Status|Income|Kidhome|Teenhome|Dt_Customer|Recency|MntWines|MntFruits|MntMeatProducts|MntFishProducts|MntSweetProducts|MntGoldProds|NumDealsPurchases|NumWebPurchases|NumCatalogPurchases|NumStorePurchases|NumWebVisitsMonth|Response|Complain|\n",
            "+-----+----------+---------+--------------+------+-------+--------+-----------+-------+--------+---------+---------------+---------------+----------------+------------+-----------------+---------------+-------------------+-----------------+-----------------+--------+--------+\n",
            "| 4073|1954-01-01| 2n Cycle|       Married| 63564|      0|       0| 2014-01-29|      0|     769|       80|            252|             15|              34|          65|                1|             10|                 10|                7|                6|       1|       0|\n",
            "| 2079|1947-01-01| 2n Cycle|       Married| 81044|      0|       0| 2013-12-27|      0|     450|       26|            535|             73|              98|          26|                1|              5|                  6|               10|                1|       0|       0|\n",
            "| 1473|1960-01-01| 2n Cycle|        Single| 47823|      0|       1| 2013-07-23|      0|      53|        1|              5|              2|               1|          10|                2|              2|                  0|                3|                8|       0|       0|\n",
            "| 2681|1984-01-01| 2n Cycle|       Married| 65370|      0|       0| 2013-01-08|      1|      71|       22|            112|            138|              89|          29|                1|              2|                  3|               13|                1|       0|       0|\n",
            "| 1524|1983-01-01| 2n Cycle|        Single| 81698|      0|       0| 2013-01-03|      1|     709|       45|            115|             30|             160|          45|                1|              8|                  2|                5|                5|       1|       0|\n",
            "| 5740|1970-01-01| 2n Cycle|      Divorced| 25959|      1|       1| 2013-02-14|      1|       4|        2|             12|              7|               5|          26|                2|              1|                  2|                2|                6|       1|       0|\n",
            "| 1241|1984-01-01| 2n Cycle|       Married| 14796|      1|       0| 2012-09-17|      1|      13|        3|              8|              7|               4|          16|                2|              1|                  0|                3|                9|       1|       0|\n",
            "| 7264|1978-01-01| 2n Cycle|        Single| 52195|      2|       1| 2014-12-05|      2|      12|        0|              4|              0|               0|           1|                1|              1|                  0|                2|                8|       0|       0|\n",
            "| 5332|1960-01-01| 2n Cycle|       Married| 82504|      0|       0| 2013-07-27|      2|     362|       50|            431|            134|              35|          54|                1|              3|                  6|                7|                1|       0|       0|\n",
            "| 5341|1962-01-01| 2n Cycle|      Divorced| 81975|      0|       1| 2013-05-01|      2|     983|       76|            184|            180|             138|          27|                1|              6|                  3|                4|                7|       0|       0|\n",
            "| 3878|1980-01-01| 2n Cycle|        Single| 31859|      1|       0| 2014-02-27|      3|       3|        4|              7|             15|               8|          11|                1|              1|                  0|                3|                7|       0|       0|\n",
            "| 9612|1987-01-01| 2n Cycle|        Single| 23830|      0|       0| 2014-07-02|      3|       1|        8|              6|              4|               8|          16|                1|              1|                  0|                3|                7|       0|       0|\n",
            "| 6815|1980-01-01| 2n Cycle|       Married| 96547|      0|       0| 2014-05-23|      4|     448|       21|            125|             52|             101|          62|                0|              7|                  6|                8|                2|       1|       0|\n",
            "| 6365|1987-01-01| 2n Cycle|       Married| 30390|      0|       0| 2013-02-09|      5|      10|       12|             12|             25|               1|          20|                1|              2|                  0|                3|                6|       0|       0|\n",
            "| 1031|1989-01-01| 2n Cycle|       Married| 85710|      0|       0| 2013-05-05|      5|     600|       20|            350|             29|              30|          33|                1|              6|                  9|               10|                2|       0|       0|\n",
            "| 7342|1961-01-01| 2n Cycle|         Widow| 59184|      0|       1| 2012-09-09|      6|     341|      142|            113|            259|             151|          66|                3|              6|                  6|               12|                5|       0|       0|\n",
            "| 2546|1977-01-01| 2n Cycle|        Single| 31878|      0|       1| 2014-06-22|      7|      23|        4|              5|             10|               5|          23|                1|              1|                  0|                4|                3|       0|       0|\n",
            "|10659|1979-01-01| 2n Cycle|      Together|  7500|      1|       0| 2013-07-05|      7|       2|        8|             11|              3|               8|          21|                4|              3|                  2|                2|                7|       0|       0|\n",
            "|10270|1981-01-01| 2n Cycle|       Married| 35523|      1|       0| 2013-03-10|      8|      11|        5|             22|             12|               5|          11|                2|              3|                  0|                3|                7|       0|       0|\n",
            "|10995|1988-01-01| 2n Cycle|       Married| 15716|      1|       0| 2012-12-11|      8|      16|        5|             30|              8|               7|          26|                3|              3|                  0|                4|                8|       0|       1|\n",
            "+-----+----------+---------+--------------+------+-------+--------+-----------+-------+--------+---------+---------------+---------------+----------------+------------+-----------------+---------------+-------------------+-----------------+-----------------+--------+--------+\n",
            "only showing top 20 rows\n",
            "\n"
          ]
        }
      ]
    },
    {
      "cell_type": "code",
      "source": [
        "#Explore the two categorical variables Marital_Status and Education level\n",
        "superstore_df.groupBy('Marital_Status').count().show()\n",
        "superstore_df.groupBy('Education').count().show()"
      ],
      "metadata": {
        "colab": {
          "base_uri": "https://localhost:8080/"
        },
        "id": "ZRN-B-4h6l64",
        "outputId": "caf7b697-1fec-4f99-e03e-0c81192ce47a"
      },
      "execution_count": 12,
      "outputs": [
        {
          "output_type": "stream",
          "name": "stdout",
          "text": [
            "+--------------+-----+\n",
            "|Marital_Status|count|\n",
            "+--------------+-----+\n",
            "|          YOLO|    2|\n",
            "|      Together|  580|\n",
            "|       Married|  864|\n",
            "|        Absurd|    2|\n",
            "|         Widow|   77|\n",
            "|      Divorced|  232|\n",
            "|         Alone|    3|\n",
            "|        Single|  480|\n",
            "+--------------+-----+\n",
            "\n",
            "+----------+-----+\n",
            "| Education|count|\n",
            "+----------+-----+\n",
            "|  2n Cycle|  203|\n",
            "|       PhD|  486|\n",
            "|    Master|  370|\n",
            "|Graduation| 1127|\n",
            "|     Basic|   54|\n",
            "+----------+-----+\n",
            "\n"
          ]
        }
      ]
    },
    {
      "cell_type": "markdown",
      "source": [
        "We can see two categories which dont make sense in Maritial Status - Yolo and Absurd. Since these contain a total of only 4 rows we can go ahead and drop them. Also we can combine the category Alone with single"
      ],
      "metadata": {
        "id": "oCCgb9ct6uOT"
      }
    },
    {
      "cell_type": "code",
      "source": [
        "#Drop rows where 'Marital_Status' is 'YOLO' or 'Absurd'\n",
        "superstore_df = superstore_df.filter(~superstore_df['Marital_Status'].isin(['YOLO', 'Absurd']))\n",
        "#Convert 'Alone' to 'Single'\n",
        "superstore_df = superstore_df.withColumn('Marital_Status', F.when(superstore_df['Marital_Status'] == 'Alone', 'Single').otherwise(superstore_df['Marital_Status']))\n",
        "superstore_df.groupBy('Marital_Status').count().show()"
      ],
      "metadata": {
        "colab": {
          "base_uri": "https://localhost:8080/"
        },
        "id": "kq78e-oj6veO",
        "outputId": "cd0432a4-d85e-43f0-904e-7fda1b42b8b8"
      },
      "execution_count": 13,
      "outputs": [
        {
          "output_type": "stream",
          "name": "stdout",
          "text": [
            "+--------------+-----+\n",
            "|Marital_Status|count|\n",
            "+--------------+-----+\n",
            "|      Together|  580|\n",
            "|       Married|  864|\n",
            "|         Widow|   77|\n",
            "|      Divorced|  232|\n",
            "|        Single|  483|\n",
            "+--------------+-----+\n",
            "\n"
          ]
        }
      ]
    },
    {
      "cell_type": "markdown",
      "source": [
        "The two date columns indicate the customers date of birth and when the customer became a member of the store. We can convert this to age and years a customer has been a memeber by subtracting the current data from the respective dates. Since the exact date the data was collected is not mentioned, looking at the dates in the data we can assume this data was collected around 2015 and we will use that as the curent date."
      ],
      "metadata": {
        "id": "5pYAcZNd7O1p"
      }
    },
    {
      "cell_type": "code",
      "source": [
        "#Get the age and number of days the custoemr has been a memeber\n",
        "\n",
        "current_date = F.to_date(F.lit('1/1/2015'), 'MM/dd/yyyy')#Set current date to 2015\n",
        "\n",
        "# Calculate the number of days the customer has been a memeber\n",
        "superstore_df = superstore_df.withColumn('Customer_Days', F.datediff(current_date, 'Dt_Customer'))\n",
        "\n",
        "# Calculate the age of the customer\n",
        "superstore_df=superstore_df.withColumn('Customer_Age', F.year(current_date) - F.year('Year_Birth'))\n",
        "\n",
        "superstore_df.show()"
      ],
      "metadata": {
        "colab": {
          "base_uri": "https://localhost:8080/"
        },
        "id": "e47S0AS07RS3",
        "outputId": "305b0470-5ab4-495b-dccf-d2569de49f33"
      },
      "execution_count": 14,
      "outputs": [
        {
          "output_type": "stream",
          "name": "stdout",
          "text": [
            "+-----+----------+---------+--------------+------+-------+--------+-----------+-------+--------+---------+---------------+---------------+----------------+------------+-----------------+---------------+-------------------+-----------------+-----------------+--------+--------+-------------+------------+\n",
            "|   Id|Year_Birth|Education|Marital_Status|Income|Kidhome|Teenhome|Dt_Customer|Recency|MntWines|MntFruits|MntMeatProducts|MntFishProducts|MntSweetProducts|MntGoldProds|NumDealsPurchases|NumWebPurchases|NumCatalogPurchases|NumStorePurchases|NumWebVisitsMonth|Response|Complain|Customer_Days|Customer_Age|\n",
            "+-----+----------+---------+--------------+------+-------+--------+-----------+-------+--------+---------+---------------+---------------+----------------+------------+-----------------+---------------+-------------------+-----------------+-----------------+--------+--------+-------------+------------+\n",
            "| 4073|1954-01-01| 2n Cycle|       Married| 63564|      0|       0| 2014-01-29|      0|     769|       80|            252|             15|              34|          65|                1|             10|                 10|                7|                6|       1|       0|          337|          61|\n",
            "| 2079|1947-01-01| 2n Cycle|       Married| 81044|      0|       0| 2013-12-27|      0|     450|       26|            535|             73|              98|          26|                1|              5|                  6|               10|                1|       0|       0|          370|          68|\n",
            "| 1473|1960-01-01| 2n Cycle|        Single| 47823|      0|       1| 2013-07-23|      0|      53|        1|              5|              2|               1|          10|                2|              2|                  0|                3|                8|       0|       0|          527|          55|\n",
            "| 2681|1984-01-01| 2n Cycle|       Married| 65370|      0|       0| 2013-01-08|      1|      71|       22|            112|            138|              89|          29|                1|              2|                  3|               13|                1|       0|       0|          723|          31|\n",
            "| 1524|1983-01-01| 2n Cycle|        Single| 81698|      0|       0| 2013-01-03|      1|     709|       45|            115|             30|             160|          45|                1|              8|                  2|                5|                5|       1|       0|          728|          32|\n",
            "| 5740|1970-01-01| 2n Cycle|      Divorced| 25959|      1|       1| 2013-02-14|      1|       4|        2|             12|              7|               5|          26|                2|              1|                  2|                2|                6|       1|       0|          686|          45|\n",
            "| 1241|1984-01-01| 2n Cycle|       Married| 14796|      1|       0| 2012-09-17|      1|      13|        3|              8|              7|               4|          16|                2|              1|                  0|                3|                9|       1|       0|          836|          31|\n",
            "| 7264|1978-01-01| 2n Cycle|        Single| 52195|      2|       1| 2014-12-05|      2|      12|        0|              4|              0|               0|           1|                1|              1|                  0|                2|                8|       0|       0|           27|          37|\n",
            "| 5332|1960-01-01| 2n Cycle|       Married| 82504|      0|       0| 2013-07-27|      2|     362|       50|            431|            134|              35|          54|                1|              3|                  6|                7|                1|       0|       0|          523|          55|\n",
            "| 5341|1962-01-01| 2n Cycle|      Divorced| 81975|      0|       1| 2013-05-01|      2|     983|       76|            184|            180|             138|          27|                1|              6|                  3|                4|                7|       0|       0|          610|          53|\n",
            "| 3878|1980-01-01| 2n Cycle|        Single| 31859|      1|       0| 2014-02-27|      3|       3|        4|              7|             15|               8|          11|                1|              1|                  0|                3|                7|       0|       0|          308|          35|\n",
            "| 9612|1987-01-01| 2n Cycle|        Single| 23830|      0|       0| 2014-07-02|      3|       1|        8|              6|              4|               8|          16|                1|              1|                  0|                3|                7|       0|       0|          183|          28|\n",
            "| 6815|1980-01-01| 2n Cycle|       Married| 96547|      0|       0| 2014-05-23|      4|     448|       21|            125|             52|             101|          62|                0|              7|                  6|                8|                2|       1|       0|          223|          35|\n",
            "| 6365|1987-01-01| 2n Cycle|       Married| 30390|      0|       0| 2013-02-09|      5|      10|       12|             12|             25|               1|          20|                1|              2|                  0|                3|                6|       0|       0|          691|          28|\n",
            "| 1031|1989-01-01| 2n Cycle|       Married| 85710|      0|       0| 2013-05-05|      5|     600|       20|            350|             29|              30|          33|                1|              6|                  9|               10|                2|       0|       0|          606|          26|\n",
            "| 7342|1961-01-01| 2n Cycle|         Widow| 59184|      0|       1| 2012-09-09|      6|     341|      142|            113|            259|             151|          66|                3|              6|                  6|               12|                5|       0|       0|          844|          54|\n",
            "| 2546|1977-01-01| 2n Cycle|        Single| 31878|      0|       1| 2014-06-22|      7|      23|        4|              5|             10|               5|          23|                1|              1|                  0|                4|                3|       0|       0|          193|          38|\n",
            "|10659|1979-01-01| 2n Cycle|      Together|  7500|      1|       0| 2013-07-05|      7|       2|        8|             11|              3|               8|          21|                4|              3|                  2|                2|                7|       0|       0|          545|          36|\n",
            "|10270|1981-01-01| 2n Cycle|       Married| 35523|      1|       0| 2013-03-10|      8|      11|        5|             22|             12|               5|          11|                2|              3|                  0|                3|                7|       0|       0|          662|          34|\n",
            "|10995|1988-01-01| 2n Cycle|       Married| 15716|      1|       0| 2012-12-11|      8|      16|        5|             30|              8|               7|          26|                3|              3|                  0|                4|                8|       0|       1|          751|          27|\n",
            "+-----+----------+---------+--------------+------+-------+--------+-----------+-------+--------+---------+---------------+---------------+----------------+------------+-----------------+---------------+-------------------+-----------------+-----------------+--------+--------+-------------+------------+\n",
            "only showing top 20 rows\n",
            "\n"
          ]
        }
      ]
    },
    {
      "cell_type": "code",
      "source": [
        " #Drop the columns which are not required\n",
        " superstore_df = superstore_df.drop(*[\"Year_Birth\", \"Id\", \"Dt_Customer\"])\n",
        " superstore_df.show()"
      ],
      "metadata": {
        "colab": {
          "base_uri": "https://localhost:8080/"
        },
        "id": "qr-0Y2Ti7amM",
        "outputId": "8e48ca61-a5af-494b-9208-303c27e7705b"
      },
      "execution_count": 15,
      "outputs": [
        {
          "output_type": "stream",
          "name": "stdout",
          "text": [
            "+---------+--------------+------+-------+--------+-------+--------+---------+---------------+---------------+----------------+------------+-----------------+---------------+-------------------+-----------------+-----------------+--------+--------+-------------+------------+\n",
            "|Education|Marital_Status|Income|Kidhome|Teenhome|Recency|MntWines|MntFruits|MntMeatProducts|MntFishProducts|MntSweetProducts|MntGoldProds|NumDealsPurchases|NumWebPurchases|NumCatalogPurchases|NumStorePurchases|NumWebVisitsMonth|Response|Complain|Customer_Days|Customer_Age|\n",
            "+---------+--------------+------+-------+--------+-------+--------+---------+---------------+---------------+----------------+------------+-----------------+---------------+-------------------+-----------------+-----------------+--------+--------+-------------+------------+\n",
            "| 2n Cycle|       Married| 63564|      0|       0|      0|     769|       80|            252|             15|              34|          65|                1|             10|                 10|                7|                6|       1|       0|          337|          61|\n",
            "| 2n Cycle|       Married| 81044|      0|       0|      0|     450|       26|            535|             73|              98|          26|                1|              5|                  6|               10|                1|       0|       0|          370|          68|\n",
            "| 2n Cycle|        Single| 47823|      0|       1|      0|      53|        1|              5|              2|               1|          10|                2|              2|                  0|                3|                8|       0|       0|          527|          55|\n",
            "| 2n Cycle|       Married| 65370|      0|       0|      1|      71|       22|            112|            138|              89|          29|                1|              2|                  3|               13|                1|       0|       0|          723|          31|\n",
            "| 2n Cycle|        Single| 81698|      0|       0|      1|     709|       45|            115|             30|             160|          45|                1|              8|                  2|                5|                5|       1|       0|          728|          32|\n",
            "| 2n Cycle|      Divorced| 25959|      1|       1|      1|       4|        2|             12|              7|               5|          26|                2|              1|                  2|                2|                6|       1|       0|          686|          45|\n",
            "| 2n Cycle|       Married| 14796|      1|       0|      1|      13|        3|              8|              7|               4|          16|                2|              1|                  0|                3|                9|       1|       0|          836|          31|\n",
            "| 2n Cycle|        Single| 52195|      2|       1|      2|      12|        0|              4|              0|               0|           1|                1|              1|                  0|                2|                8|       0|       0|           27|          37|\n",
            "| 2n Cycle|       Married| 82504|      0|       0|      2|     362|       50|            431|            134|              35|          54|                1|              3|                  6|                7|                1|       0|       0|          523|          55|\n",
            "| 2n Cycle|      Divorced| 81975|      0|       1|      2|     983|       76|            184|            180|             138|          27|                1|              6|                  3|                4|                7|       0|       0|          610|          53|\n",
            "| 2n Cycle|        Single| 31859|      1|       0|      3|       3|        4|              7|             15|               8|          11|                1|              1|                  0|                3|                7|       0|       0|          308|          35|\n",
            "| 2n Cycle|        Single| 23830|      0|       0|      3|       1|        8|              6|              4|               8|          16|                1|              1|                  0|                3|                7|       0|       0|          183|          28|\n",
            "| 2n Cycle|       Married| 96547|      0|       0|      4|     448|       21|            125|             52|             101|          62|                0|              7|                  6|                8|                2|       1|       0|          223|          35|\n",
            "| 2n Cycle|       Married| 30390|      0|       0|      5|      10|       12|             12|             25|               1|          20|                1|              2|                  0|                3|                6|       0|       0|          691|          28|\n",
            "| 2n Cycle|       Married| 85710|      0|       0|      5|     600|       20|            350|             29|              30|          33|                1|              6|                  9|               10|                2|       0|       0|          606|          26|\n",
            "| 2n Cycle|         Widow| 59184|      0|       1|      6|     341|      142|            113|            259|             151|          66|                3|              6|                  6|               12|                5|       0|       0|          844|          54|\n",
            "| 2n Cycle|        Single| 31878|      0|       1|      7|      23|        4|              5|             10|               5|          23|                1|              1|                  0|                4|                3|       0|       0|          193|          38|\n",
            "| 2n Cycle|      Together|  7500|      1|       0|      7|       2|        8|             11|              3|               8|          21|                4|              3|                  2|                2|                7|       0|       0|          545|          36|\n",
            "| 2n Cycle|       Married| 35523|      1|       0|      8|      11|        5|             22|             12|               5|          11|                2|              3|                  0|                3|                7|       0|       0|          662|          34|\n",
            "| 2n Cycle|       Married| 15716|      1|       0|      8|      16|        5|             30|              8|               7|          26|                3|              3|                  0|                4|                8|       0|       1|          751|          27|\n",
            "+---------+--------------+------+-------+--------+-------+--------+---------+---------------+---------------+----------------+------------+-----------------+---------------+-------------------+-----------------+-----------------+--------+--------+-------------+------------+\n",
            "only showing top 20 rows\n",
            "\n"
          ]
        }
      ]
    },
    {
      "cell_type": "code",
      "source": [],
      "metadata": {
        "id": "szVd7wlI7eEG"
      },
      "execution_count": null,
      "outputs": []
    }
  ]
}