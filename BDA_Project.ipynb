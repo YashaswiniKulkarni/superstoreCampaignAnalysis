{
  "nbformat": 4,
  "nbformat_minor": 0,
  "metadata": {
    "colab": {
      "provenance": []
    },
    "kernelspec": {
      "name": "python3",
      "display_name": "Python 3"
    },
    "language_info": {
      "name": "python"
    }
  },
  "cells": [
    {
      "cell_type": "code",
      "execution_count": 3,
      "metadata": {
        "colab": {
          "base_uri": "https://localhost:8080/"
        },
        "id": "f2HyhBhnSYIA",
        "outputId": "b5405fce-d937-42de-92a5-118c220c9f51"
      },
      "outputs": [
        {
          "output_type": "stream",
          "name": "stdout",
          "text": [
            "Collecting pyspark\n",
            "  Downloading pyspark-3.5.1.tar.gz (317.0 MB)\n",
            "\u001b[2K     \u001b[90m━━━━━━━━━━━━━━━━━━━━━━━━━━━━━━━━━━━━━━━━\u001b[0m \u001b[32m317.0/317.0 MB\u001b[0m \u001b[31m1.6 MB/s\u001b[0m eta \u001b[36m0:00:00\u001b[0m\n",
            "\u001b[?25h  Preparing metadata (setup.py) ... \u001b[?25l\u001b[?25hdone\n",
            "Requirement already satisfied: py4j==0.10.9.7 in /usr/local/lib/python3.10/dist-packages (from pyspark) (0.10.9.7)\n",
            "Building wheels for collected packages: pyspark\n",
            "  Building wheel for pyspark (setup.py) ... \u001b[?25l\u001b[?25hdone\n",
            "  Created wheel for pyspark: filename=pyspark-3.5.1-py2.py3-none-any.whl size=317488491 sha256=0ef8c70605da9f28be61776c896b8e8293412a3bcff00966b75a645716ce96bd\n",
            "  Stored in directory: /root/.cache/pip/wheels/80/1d/60/2c256ed38dddce2fdd93be545214a63e02fbd8d74fb0b7f3a6\n",
            "Successfully built pyspark\n",
            "Installing collected packages: pyspark\n",
            "Successfully installed pyspark-3.5.1\n"
          ]
        }
      ],
      "source": [
        "!pip install pyspark"
      ]
    },
    {
      "cell_type": "code",
      "source": [
        "#Import statements\n",
        "from pyspark.sql import SparkSession,Row\n",
        "from pyspark.sql.functions import col, sum,when,exp\n",
        "from pyspark.sql import functions as F\n",
        "from pyspark.sql.window import Window\n",
        "from pyspark.ml import Pipeline\n",
        "from pyspark.ml.feature import StringIndexer, OneHotEncoder\n",
        "from pyspark.ml.feature import VectorAssembler\n",
        "from pyspark.ml.feature import StandardScaler\n",
        "from pyspark.ml.classification import LogisticRegression\n",
        "from pyspark.ml.evaluation import BinaryClassificationEvaluator\n",
        "from pyspark.mllib.evaluation import MulticlassMetrics\n",
        "from pyspark.ml.classification import GBTClassifier\n",
        "from pyspark.ml.tuning import CrossValidator, ParamGridBuilder\n",
        "from pyspark.sql.types import StructType, StructField, DoubleType, StringType\n",
        "from pyspark.ml.functions import vector_to_array\n",
        "import math\n",
        "import matplotlib.pyplot as plt\n",
        "import seaborn as sns\n",
        "import pandas as pd\n",
        "seed=99"
      ],
      "metadata": {
        "id": "3_XU9frbXxxz"
      },
      "execution_count": 4,
      "outputs": []
    },
    {
      "cell_type": "code",
      "source": [
        "#Create a Spark session\n",
        "spark = SparkSession.builder.appName(\"SuperstoreAnalysis\").getOrCreate()\n",
        "spark.conf.set(\"spark.sql.legacy.timeParserPolicy\", \"LEGACY\")#Set legacy date parser due to issues with date format in new version"
      ],
      "metadata": {
        "id": "gLSpZjlzX7Dk"
      },
      "execution_count": 5,
      "outputs": []
    },
    {
      "cell_type": "code",
      "source": [
        "#Read CSV data\n",
        "superstore_data_path = '/content/drive/My Drive/Colab Notebooks/BDA_Project/superstore_data.csv' #File path\n",
        "superstore_df = spark.read.csv(superstore_data_path, header=True, inferSchema=True)\n",
        "superstore_df.show()"
      ],
      "metadata": {
        "colab": {
          "base_uri": "https://localhost:8080/"
        },
        "id": "ppNB9bN9YAMr",
        "outputId": "7aacd309-b9c8-4ab7-8a14-ebefd893865d"
      },
      "execution_count": 7,
      "outputs": [
        {
          "output_type": "stream",
          "name": "stdout",
          "text": [
            "+-----+----------+----------+--------------+------+-------+--------+-----------+-------+--------+---------+---------------+---------------+----------------+------------+-----------------+---------------+-------------------+-----------------+-----------------+--------+--------+\n",
            "|   Id|Year_Birth| Education|Marital_Status|Income|Kidhome|Teenhome|Dt_Customer|Recency|MntWines|MntFruits|MntMeatProducts|MntFishProducts|MntSweetProducts|MntGoldProds|NumDealsPurchases|NumWebPurchases|NumCatalogPurchases|NumStorePurchases|NumWebVisitsMonth|Response|Complain|\n",
            "+-----+----------+----------+--------------+------+-------+--------+-----------+-------+--------+---------+---------------+---------------+----------------+------------+-----------------+---------------+-------------------+-----------------+-----------------+--------+--------+\n",
            "| 1826|      1970|Graduation|      Divorced| 84835|      0|       0|  6/16/2014|      0|     189|      104|            379|            111|             189|         218|                1|              4|                  4|                6|                1|       1|       0|\n",
            "|    1|      1961|Graduation|        Single| 57091|      0|       0|  6/15/2014|      0|     464|        5|             64|              7|               0|          37|                1|              7|                  3|                7|                5|       1|       0|\n",
            "|10476|      1958|Graduation|       Married| 67267|      0|       1|  5/13/2014|      0|     134|       11|             59|             15|               2|          30|                1|              3|                  2|                5|                2|       0|       0|\n",
            "| 1386|      1967|Graduation|      Together| 32474|      1|       1|  11/5/2014|      0|      10|        0|              1|              0|               0|           0|                1|              1|                  0|                2|                7|       0|       0|\n",
            "| 5371|      1989|Graduation|        Single| 21474|      1|       0|   8/4/2014|      0|       6|       16|             24|             11|               0|          34|                2|              3|                  1|                2|                7|       1|       0|\n",
            "| 7348|      1958|       PhD|        Single| 71691|      0|       0|  3/17/2014|      0|     336|      130|            411|            240|              32|          43|                1|              4|                  7|                5|                2|       1|       0|\n",
            "| 4073|      1954|  2n Cycle|       Married| 63564|      0|       0|  1/29/2014|      0|     769|       80|            252|             15|              34|          65|                1|             10|                 10|                7|                6|       1|       0|\n",
            "| 1991|      1967|Graduation|      Together| 44931|      0|       1|  1/18/2014|      0|      78|        0|             11|              0|               0|           7|                1|              2|                  1|                3|                5|       0|       0|\n",
            "| 4047|      1954|       PhD|       Married| 65324|      0|       1|  11/1/2014|      0|     384|        0|            102|             21|              32|           5|                3|              6|                  2|                9|                4|       0|       0|\n",
            "| 9477|      1954|       PhD|       Married| 65324|      0|       1|  11/1/2014|      0|     384|        0|            102|             21|              32|           5|                3|              6|                  2|                9|                4|       0|       0|\n",
            "| 2079|      1947|  2n Cycle|       Married| 81044|      0|       0| 12/27/2013|      0|     450|       26|            535|             73|              98|          26|                1|              5|                  6|               10|                1|       0|       0|\n",
            "| 5642|      1979|    Master|      Together| 62499|      1|       0|  9/12/2013|      0|     140|        4|             61|              0|              13|           4|                2|              3|                  1|                6|                4|       0|       0|\n",
            "|10530|      1959|       PhD|         Widow| 67786|      0|       0|  7/12/2013|      0|     431|       82|            441|             80|              20|         102|                1|              3|                  6|                6|                1|       1|       0|\n",
            "| 2964|      1981|Graduation|       Married| 26872|      0|       0| 10/16/2013|      0|       3|       10|              8|              3|              16|          32|                1|              1|                  1|                2|                6|       0|       0|\n",
            "|10311|      1969|Graduation|       Married|  4428|      0|       1|  5/10/2013|      0|      16|        4|             12|              2|               4|         321|                0|             25|                  0|                0|                1|       0|       0|\n",
            "|  837|      1977|Graduation|       Married| 54809|      1|       1|  11/9/2013|      0|      63|        6|             57|             13|              13|          22|                4|              2|                  1|                5|                4|       0|       0|\n",
            "|10521|      1977|Graduation|       Married| 54809|      1|       1|  11/9/2013|      0|      63|        6|             57|             13|              13|          22|                4|              2|                  1|                5|                4|       1|       0|\n",
            "|10175|      1958|       PhD|      Divorced| 32173|      0|       1|   1/8/2013|      0|      18|        0|              2|              0|               0|           2|                1|              1|                  0|                3|                4|       0|       0|\n",
            "| 1473|      1960|  2n Cycle|        Single| 47823|      0|       1|  7/23/2013|      0|      53|        1|              5|              2|               1|          10|                2|              2|                  0|                3|                8|       0|       0|\n",
            "| 2795|      1958|    Master|        Single| 30523|      2|       1|   1/7/2013|      0|       5|        0|              3|              0|               0|           5|                1|              1|                  0|                2|                7|       0|       0|\n",
            "+-----+----------+----------+--------------+------+-------+--------+-----------+-------+--------+---------+---------------+---------------+----------------+------------+-----------------+---------------+-------------------+-----------------+-----------------+--------+--------+\n",
            "only showing top 20 rows\n",
            "\n"
          ]
        }
      ]
    }
  ]
}